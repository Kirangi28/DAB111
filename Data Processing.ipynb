{
 "cells": [
  {
   "cell_type": "markdown",
   "id": "2f7f809d",
   "metadata": {},
   "source": [
    "# Data Processing"
   ]
  },
  {
   "cell_type": "code",
   "execution_count": null,
   "id": "3aa7d197",
   "metadata": {},
   "outputs": [],
   "source": []
  },
  {
   "cell_type": "code",
   "execution_count": 3,
   "id": "e78b8915",
   "metadata": {},
   "outputs": [],
   "source": [
    "import pandas as pd"
   ]
  },
  {
   "cell_type": "code",
   "execution_count": 4,
   "id": "ca701b1c",
   "metadata": {},
   "outputs": [],
   "source": [
    "# Load the CSV file\n",
    "data = pd.read_csv('Project2_version5.csv')"
   ]
  },
  {
   "cell_type": "code",
   "execution_count": 5,
   "id": "dbce281f",
   "metadata": {},
   "outputs": [],
   "source": [
    "# Making 'Title' column values uppercase\n",
    "data['Title'] = data['Title'].str.upper()"
   ]
  },
  {
   "cell_type": "code",
   "execution_count": 6,
   "id": "1566136a",
   "metadata": {},
   "outputs": [],
   "source": [
    "# Making 'Product Type' column values lowercase\n",
    "data['Product Type'] = data['Product Type'].str.lower()"
   ]
  },
  {
   "cell_type": "code",
   "execution_count": 7,
   "id": "2a9a41a4",
   "metadata": {},
   "outputs": [],
   "source": [
    "# Removing currency symbol from book price \n",
    "data['Book Price'] = data['Book Price'].str.replace('£', '')\n"
   ]
  },
  {
   "cell_type": "code",
   "execution_count": 8,
   "id": "657128ea",
   "metadata": {},
   "outputs": [],
   "source": [
    "# Extract numerical values (int) from 'Availability'\n",
    "data['Availablities'] = data['Availablities'].str.extract('(\\d+)').astype(float)\n"
   ]
  },
  {
   "cell_type": "code",
   "execution_count": 10,
   "id": "f3b4938d",
   "metadata": {},
   "outputs": [],
   "source": [
    "# Save the processed dataframe to a new CSV file\n",
    "data.to_csv('processed_data_version5(1).csv', index=False)"
   ]
  },
  {
   "cell_type": "code",
   "execution_count": null,
   "id": "ab62ed60",
   "metadata": {},
   "outputs": [],
   "source": []
  }
 ],
 "metadata": {
  "kernelspec": {
   "display_name": "Python 3 (ipykernel)",
   "language": "python",
   "name": "python3"
  },
  "language_info": {
   "codemirror_mode": {
    "name": "ipython",
    "version": 3
   },
   "file_extension": ".py",
   "mimetype": "text/x-python",
   "name": "python",
   "nbconvert_exporter": "python",
   "pygments_lexer": "ipython3",
   "version": "3.11.4"
  }
 },
 "nbformat": 4,
 "nbformat_minor": 5
}
