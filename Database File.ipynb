{
 "cells": [
  {
   "cell_type": "markdown",
   "id": "091a82f3",
   "metadata": {},
   "source": [
    "# Database"
   ]
  },
  {
   "cell_type": "code",
   "execution_count": null,
   "id": "cb2cf7c4",
   "metadata": {},
   "outputs": [],
   "source": []
  },
  {
   "cell_type": "code",
   "execution_count": 4,
   "id": "c6ed5475",
   "metadata": {},
   "outputs": [],
   "source": [
    "import pandas as pd\n"
   ]
  },
  {
   "cell_type": "code",
   "execution_count": 5,
   "id": "fa1463a4",
   "metadata": {},
   "outputs": [],
   "source": [
    "# Load the CSV file\n",
    "data = pd.read_csv('Project2_version5.csv')"
   ]
  },
  {
   "cell_type": "code",
   "execution_count": null,
   "id": "f39c0aa4",
   "metadata": {},
   "outputs": [],
   "source": []
  },
  {
   "cell_type": "code",
   "execution_count": 6,
   "id": "75a4654b",
   "metadata": {},
   "outputs": [
    {
     "name": "stdout",
     "output_type": "stream",
     "text": [
      "Data has been successfully stored in the 'books_database.db' SQLite database.\n"
     ]
    }
   ],
   "source": [
    "import sqlite3\n",
    "\n",
    "# Connect to the SQLite database (or create it if it doesn't exist)\n",
    "conn = sqlite3.connect('books_database.db')\n",
    "\n",
    "# Create a cursor object to execute SQL queries\n",
    "cursor = conn.cursor()\n",
    "\n",
    "# Create a table in the database\n",
    "cursor.execute('''\n",
    "    CREATE TABLE IF NOT EXISTS books (\n",
    "        id INTEGER PRIMARY KEY,\n",
    "        title TEXT,\n",
    "        book_price REAL,\n",
    "        upc TEXT,\n",
    "        product_type TEXT,\n",
    "        price_excl_tax REAL,\n",
    "        price_incl_tax REAL,\n",
    "        tax REAL,\n",
    "        availability REAL,\n",
    "        num_reviews REAL\n",
    "    )\n",
    "''')\n",
    "\n",
    "# Commit the changes to the database\n",
    "conn.commit()\n",
    "\n",
    "# Insert data into the table\n",
    "for _, row in data.iterrows():\n",
    "    cursor.execute('''\n",
    "        INSERT INTO books (title, book_price, upc, product_type, price_excl_tax, price_incl_tax, tax, availability, num_reviews)\n",
    "        VALUES (?, ?, ?, ?, ?, ?, ?, ?, ?)\n",
    "    ''', (row['Title'], row['Book Price'], row['UPC'], row['Product Type'], row['Prices(excl. tax)'], row['Prices(incl. tax)'], row['Taxes'], row['Availablities'], row['Number of review']))\n",
    "\n",
    "# Commit the changes to the database\n",
    "conn.commit()\n",
    "\n",
    "# Close the connection\n",
    "conn.close()\n",
    "print(\"Data has been successfully stored in the 'books_database.db' SQLite database.\")"
   ]
  },
  {
   "cell_type": "code",
   "execution_count": null,
   "id": "5bc629be",
   "metadata": {},
   "outputs": [],
   "source": []
  }
 ],
 "metadata": {
  "kernelspec": {
   "display_name": "Python 3 (ipykernel)",
   "language": "python",
   "name": "python3"
  },
  "language_info": {
   "codemirror_mode": {
    "name": "ipython",
    "version": 3
   },
   "file_extension": ".py",
   "mimetype": "text/x-python",
   "name": "python",
   "nbconvert_exporter": "python",
   "pygments_lexer": "ipython3",
   "version": "3.11.4"
  }
 },
 "nbformat": 4,
 "nbformat_minor": 5
}
